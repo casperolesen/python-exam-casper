{
 "cells": [
  {
   "cell_type": "code",
   "execution_count": 1,
   "metadata": {},
   "outputs": [
    {
     "data": {
      "text/html": [
       "<div>\n",
       "<style scoped>\n",
       "    .dataframe tbody tr th:only-of-type {\n",
       "        vertical-align: middle;\n",
       "    }\n",
       "\n",
       "    .dataframe tbody tr th {\n",
       "        vertical-align: top;\n",
       "    }\n",
       "\n",
       "    .dataframe thead th {\n",
       "        text-align: right;\n",
       "    }\n",
       "</style>\n",
       "<table border=\"1\" class=\"dataframe\">\n",
       "  <thead>\n",
       "    <tr style=\"text-align: right;\">\n",
       "      <th></th>\n",
       "      <th>URL</th>\n",
       "      <th>Adresse</th>\n",
       "      <th>Pris</th>\n",
       "      <th>Type</th>\n",
       "      <th>Energimærke</th>\n",
       "      <th>Ejerudgift</th>\n",
       "      <th>Boligydelse</th>\n",
       "      <th>Anvendelse</th>\n",
       "      <th>Boligtype</th>\n",
       "      <th>Enhedsareal</th>\n",
       "      <th>...</th>\n",
       "      <th>Boligenhed uden eget køkken</th>\n",
       "      <th>Matrikelnummer</th>\n",
       "      <th>Kommunal ejerlav navn</th>\n",
       "      <th>Grundstørrelse</th>\n",
       "      <th>Lands ejerlav kode</th>\n",
       "      <th>Vejareal</th>\n",
       "      <th>Lands ejerlav navn</th>\n",
       "      <th>Primær matrikel</th>\n",
       "      <th>Ejendomsnummer</th>\n",
       "      <th>Kommunal ejerlav kode</th>\n",
       "    </tr>\n",
       "  </thead>\n",
       "  <tbody>\n",
       "    <tr>\n",
       "      <th>0</th>\n",
       "      <td>https://www.boliga.dk/bolig/1729667/annebergpa...</td>\n",
       "      <td>Annebergparken 997 st 4500 Nykøbing Sj</td>\n",
       "      <td>395655</td>\n",
       "      <td>Andelsbolig</td>\n",
       "      <td>NaN</td>\n",
       "      <td>NaN</td>\n",
       "      <td>4708</td>\n",
       "      <td>NaN</td>\n",
       "      <td>NaN</td>\n",
       "      <td>NaN</td>\n",
       "      <td>...</td>\n",
       "      <td>NaN</td>\n",
       "      <td>NaN</td>\n",
       "      <td>NaN</td>\n",
       "      <td>NaN</td>\n",
       "      <td>NaN</td>\n",
       "      <td>NaN</td>\n",
       "      <td>NaN</td>\n",
       "      <td>NaN</td>\n",
       "      <td>NaN</td>\n",
       "      <td>NaN</td>\n",
       "    </tr>\n",
       "    <tr>\n",
       "      <th>1</th>\n",
       "      <td>https://www.boliga.dk/bolig/1729730/fiskeparke...</td>\n",
       "      <td>Fiskeparken 25 Snaptun 7130 Juelsminde</td>\n",
       "      <td>295000</td>\n",
       "      <td>Andelsbolig</td>\n",
       "      <td>C</td>\n",
       "      <td>NaN</td>\n",
       "      <td>6374</td>\n",
       "      <td>Fritliggende enfamiliehus</td>\n",
       "      <td>Egentlig beboelseslejlighed boligenhed med ege...</td>\n",
       "      <td>111</td>\n",
       "      <td>...</td>\n",
       "      <td>0.0</td>\n",
       "      <td>11be</td>\n",
       "      <td>ØSTRUP BY GLUD</td>\n",
       "      <td>9924.0</td>\n",
       "      <td>1100452.0</td>\n",
       "      <td>245.0</td>\n",
       "      <td>ØSTRUP BY GLUD</td>\n",
       "      <td>J</td>\n",
       "      <td>16078.0</td>\n",
       "      <td>NaN</td>\n",
       "    </tr>\n",
       "    <tr>\n",
       "      <th>2</th>\n",
       "      <td>https://www.boliga.dk/bolig/1729669/annebergpa...</td>\n",
       "      <td>Annebergparken 997 st 4500 Nykøbing Sj</td>\n",
       "      <td>395655</td>\n",
       "      <td>Andelsbolig</td>\n",
       "      <td>NaN</td>\n",
       "      <td>NaN</td>\n",
       "      <td>4708</td>\n",
       "      <td>NaN</td>\n",
       "      <td>NaN</td>\n",
       "      <td>NaN</td>\n",
       "      <td>...</td>\n",
       "      <td>NaN</td>\n",
       "      <td>NaN</td>\n",
       "      <td>NaN</td>\n",
       "      <td>NaN</td>\n",
       "      <td>NaN</td>\n",
       "      <td>NaN</td>\n",
       "      <td>NaN</td>\n",
       "      <td>NaN</td>\n",
       "      <td>NaN</td>\n",
       "      <td>NaN</td>\n",
       "    </tr>\n",
       "    <tr>\n",
       "      <th>3</th>\n",
       "      <td>https://www.boliga.dk/bolig/1729668/annebergpa...</td>\n",
       "      <td>Annebergparken 997 st 4500 Nykøbing Sj</td>\n",
       "      <td>395655</td>\n",
       "      <td>Andelsbolig</td>\n",
       "      <td>NaN</td>\n",
       "      <td>NaN</td>\n",
       "      <td>4708</td>\n",
       "      <td>NaN</td>\n",
       "      <td>NaN</td>\n",
       "      <td>NaN</td>\n",
       "      <td>...</td>\n",
       "      <td>NaN</td>\n",
       "      <td>NaN</td>\n",
       "      <td>NaN</td>\n",
       "      <td>NaN</td>\n",
       "      <td>NaN</td>\n",
       "      <td>NaN</td>\n",
       "      <td>NaN</td>\n",
       "      <td>NaN</td>\n",
       "      <td>NaN</td>\n",
       "      <td>NaN</td>\n",
       "    </tr>\n",
       "    <tr>\n",
       "      <th>4</th>\n",
       "      <td>https://www.boliga.dk/bolig/1729682/fermparken...</td>\n",
       "      <td>Fermparken 1B 8860 Ulstrup</td>\n",
       "      <td>195000</td>\n",
       "      <td>Andelsbolig</td>\n",
       "      <td>C</td>\n",
       "      <td>NaN</td>\n",
       "      <td>6104</td>\n",
       "      <td>Række kæde eller dobbelthus lodret adskillelse...</td>\n",
       "      <td>Egentlig beboelseslejlighed boligenhed med ege...</td>\n",
       "      <td>105</td>\n",
       "      <td>...</td>\n",
       "      <td>0.0</td>\n",
       "      <td>30u</td>\n",
       "      <td>VELLEV BY VELLE</td>\n",
       "      <td>14120.0</td>\n",
       "      <td>791455.0</td>\n",
       "      <td>0.0</td>\n",
       "      <td>VELLEV BY VELLEV</td>\n",
       "      <td>J</td>\n",
       "      <td>16026.0</td>\n",
       "      <td>NaN</td>\n",
       "    </tr>\n",
       "  </tbody>\n",
       "</table>\n",
       "<p>5 rows × 42 columns</p>\n",
       "</div>"
      ],
      "text/plain": [
       "                                                 URL  \\\n",
       "0  https://www.boliga.dk/bolig/1729667/annebergpa...   \n",
       "1  https://www.boliga.dk/bolig/1729730/fiskeparke...   \n",
       "2  https://www.boliga.dk/bolig/1729669/annebergpa...   \n",
       "3  https://www.boliga.dk/bolig/1729668/annebergpa...   \n",
       "4  https://www.boliga.dk/bolig/1729682/fermparken...   \n",
       "\n",
       "                                  Adresse    Pris         Type Energimærke  \\\n",
       "0  Annebergparken 997 st 4500 Nykøbing Sj  395655  Andelsbolig         NaN   \n",
       "1  Fiskeparken 25 Snaptun 7130 Juelsminde  295000  Andelsbolig           C   \n",
       "2  Annebergparken 997 st 4500 Nykøbing Sj  395655  Andelsbolig         NaN   \n",
       "3  Annebergparken 997 st 4500 Nykøbing Sj  395655  Andelsbolig         NaN   \n",
       "4              Fermparken 1B 8860 Ulstrup  195000  Andelsbolig           C   \n",
       "\n",
       "  Ejerudgift Boligydelse                                         Anvendelse  \\\n",
       "0        NaN        4708                                                NaN   \n",
       "1        NaN        6374                          Fritliggende enfamiliehus   \n",
       "2        NaN        4708                                                NaN   \n",
       "3        NaN        4708                                                NaN   \n",
       "4        NaN        6104  Række kæde eller dobbelthus lodret adskillelse...   \n",
       "\n",
       "                                           Boligtype Enhedsareal  ...  \\\n",
       "0                                                NaN         NaN  ...   \n",
       "1  Egentlig beboelseslejlighed boligenhed med ege...         111  ...   \n",
       "2                                                NaN         NaN  ...   \n",
       "3                                                NaN         NaN  ...   \n",
       "4  Egentlig beboelseslejlighed boligenhed med ege...         105  ...   \n",
       "\n",
       "  Boligenhed uden eget køkken Matrikelnummer Kommunal ejerlav navn  \\\n",
       "0                         NaN            NaN                   NaN   \n",
       "1                         0.0           11be        ØSTRUP BY GLUD   \n",
       "2                         NaN            NaN                   NaN   \n",
       "3                         NaN            NaN                   NaN   \n",
       "4                         0.0            30u       VELLEV BY VELLE   \n",
       "\n",
       "  Grundstørrelse Lands ejerlav kode Vejareal Lands ejerlav navn  \\\n",
       "0            NaN                NaN      NaN                NaN   \n",
       "1         9924.0          1100452.0    245.0     ØSTRUP BY GLUD   \n",
       "2            NaN                NaN      NaN                NaN   \n",
       "3            NaN                NaN      NaN                NaN   \n",
       "4        14120.0           791455.0      0.0   VELLEV BY VELLEV   \n",
       "\n",
       "  Primær matrikel Ejendomsnummer Kommunal ejerlav kode  \n",
       "0             NaN            NaN                   NaN  \n",
       "1               J        16078.0                   NaN  \n",
       "2             NaN            NaN                   NaN  \n",
       "3             NaN            NaN                   NaN  \n",
       "4               J        16026.0                   NaN  \n",
       "\n",
       "[5 rows x 42 columns]"
      ]
     },
     "execution_count": 1,
     "metadata": {},
     "output_type": "execute_result"
    }
   ],
   "source": [
    "import pandas as pd\n",
    "import seaborn as sb\n",
    "import matplotlib.pyplot as plt\n",
    "house_data = pd.read_csv('./data/house_data_final.csv', low_memory=False)\n",
    "house_data.head()"
   ]
  },
  {
   "cell_type": "code",
   "execution_count": 2,
   "metadata": {},
   "outputs": [
    {
     "name": "stdout",
     "output_type": "stream",
     "text": [
      "<class 'pandas.core.frame.DataFrame'>\n",
      "RangeIndex: 38537 entries, 0 to 38536\n",
      "Data columns (total 42 columns):\n",
      " #   Column                       Non-Null Count  Dtype  \n",
      "---  ------                       --------------  -----  \n",
      " 0   URL                          38520 non-null  object \n",
      " 1   Adresse                      38515 non-null  object \n",
      " 2   Pris                         38496 non-null  object \n",
      " 3   Type                         38450 non-null  object \n",
      " 4   Energimærke                  32518 non-null  object \n",
      " 5   Ejerudgift                   37743 non-null  object \n",
      " 6   Boligydelse                  725 non-null    object \n",
      " 7   Anvendelse                   38348 non-null  object \n",
      " 8   Boligtype                    38342 non-null  object \n",
      " 9   Enhedsareal                  38342 non-null  object \n",
      " 10  Beboelsesareal               38330 non-null  object \n",
      " 11  Værelser                     38330 non-null  object \n",
      " 12  Antal toiletter              38329 non-null  object \n",
      " 13  Badeforhold                  37671 non-null  object \n",
      " 14  Antal badeværelser           38326 non-null  object \n",
      " 15  Køkkenforhold                37659 non-null  object \n",
      " 16  Energikode                   14450 non-null  object \n",
      " 17  Toiletforhold                37668 non-null  object \n",
      " 18  Bygningsnummer               38325 non-null  object \n",
      " 19  Ydervæg                      38323 non-null  object \n",
      " 20  Tag                          38323 non-null  object \n",
      " 21  Etager                       38324 non-null  float64\n",
      " 22  Carport                      38324 non-null  object \n",
      " 23  Seneste ombygning            38323 non-null  object \n",
      " 24  Udhus                        38323 non-null  float64\n",
      " 25  Boligstørrelse BBR           38323 non-null  object \n",
      " 26  Objekt status                38323 non-null  object \n",
      " 27  Boligstørrelse tinglyst      38323 non-null  float64\n",
      " 28  Afvigende etager             38323 non-null  object \n",
      " 29  Boligstørrelse               38323 non-null  float64\n",
      " 30  Boligenhed med eget køkken   38323 non-null  object \n",
      " 31  Varmeinstallation            38316 non-null  object \n",
      " 32  Boligenhed uden eget køkken  38321 non-null  float64\n",
      " 33  Matrikelnummer               33461 non-null  object \n",
      " 34  Kommunal ejerlav navn        33460 non-null  object \n",
      " 35  Grundstørrelse               33460 non-null  float64\n",
      " 36  Lands ejerlav kode           33460 non-null  float64\n",
      " 37  Vejareal                     33460 non-null  float64\n",
      " 38  Lands ejerlav navn           33460 non-null  object \n",
      " 39  Primær matrikel              33460 non-null  object \n",
      " 40  Ejendomsnummer               33460 non-null  float64\n",
      " 41  Kommunal ejerlav kode        4649 non-null   object \n",
      "dtypes: float64(9), object(33)\n",
      "memory usage: 12.3+ MB\n"
     ]
    }
   ],
   "source": [
    "house_data.info()"
   ]
  },
  {
   "cell_type": "code",
   "execution_count": null,
   "metadata": {},
   "outputs": [],
   "source": [
    "house_data.describe()"
   ]
  },
  {
   "cell_type": "code",
   "execution_count": null,
   "metadata": {},
   "outputs": [],
   "source": [
    "house_data.info()\n",
    "house_data['Pris'] = pd.to_numeric(house_data['Pris'], errors='coerce')\n",
    "house_data['Værelser'] = pd.to_numeric(house_data['Værelser'], errors='coerce')\n",
    "house_data['Antal toiletter'] = pd.to_numeric(house_data['Antal toiletter'], errors='coerce')\n",
    "house_data['Antal badeværelser'] = pd.to_numeric(house_data['Antal badeværelser'], errors='coerce')\n",
    "house_data['Ejerudgift'] = pd.to_numeric(house_data['Ejerudgift'], errors='coerce')\n",
    "house_data['Enhedsareal'] = pd.to_numeric(house_data['Enhedsareal'], errors='coerce')\n",
    "house_data['Beboelsesareal'] = pd.to_numeric(house_data['Beboelsesareal'], errors='coerce')\n",
    "house_data['Boligstørrelse BBR'] = pd.to_numeric(house_data['Boligstørrelse BBR'], errors='coerce')"
   ]
  },
  {
   "cell_type": "code",
   "execution_count": null,
   "metadata": {},
   "outputs": [],
   "source": [
    "data = house_data\n",
    "data.drop(['Matrikelnummer',\n",
    "           'Kommunal ejerlav navn',\n",
    "           'Lands ejerlav kode',\n",
    "           'Vejareal',\n",
    "           'Lands ejerlav navn',\n",
    "           'Primær matrikel',\n",
    "           'Ejendomsnummer',\n",
    "           'Kommunal ejerlav kode',\n",
    "           'Varmeinstallation',\n",
    "           'Afvigende etager',\n",
    "           'Objekt status',\n",
    "           'Anvendelse',\n",
    "           'Boligtype',\n",
    "           'Badeforhold',\n",
    "           'Køkkenforhold',\n",
    "           'Boligenhed med eget køkken',\n",
    "           'Boligenhed uden eget køkken',\n",
    "           'Energikode',\n",
    "           'Toiletforhold',\n",
    "           'Ydervæg',\n",
    "           'Tag',\n",
    "           'Boligydelse',\n",
    "           'Bygningsnummer',\n",
    "           'Boligstørrelse tinglyst'], 'columns', inplace=True)\n",
    "data"
   ]
  },
  {
   "cell_type": "code",
   "execution_count": null,
   "metadata": {},
   "outputs": [],
   "source": [
    "data.info()"
   ]
  },
  {
   "cell_type": "code",
   "execution_count": null,
   "metadata": {},
   "outputs": [],
   "source": [
    "villa_data = data[data['Type'] == 'Villa']"
   ]
  },
  {
   "cell_type": "code",
   "execution_count": null,
   "metadata": {},
   "outputs": [],
   "source": [
    "# Find missing values in the data and drop those rows:\n",
    "print('rows before drop n/a',len(villa_data))\n",
    "bool_matrix = villa_data.isnull() # dataframe with True and False values for each cell in the villa_data\n",
    "only_null_filter = bool_matrix.any(axis=1) # is there a True value in any column in each row. returns a pandas Series with index matching index of villa dataframe\n",
    "missing = villa_data[only_null_filter] # show all rows that has one or more null values\n",
    "villa_data = villa_data.dropna()\n",
    "print('rows after',len(villa_data))\n",
    "#pd.options.display.max_rows = None # let me see all rows in the dataframe (can be used with columns too)\n",
    "#villa_data\n",
    "#bool_matrix"
   ]
  },
  {
   "cell_type": "code",
   "execution_count": null,
   "metadata": {},
   "outputs": [],
   "source": [
    "villa_data.info()"
   ]
  },
  {
   "cell_type": "code",
   "execution_count": null,
   "metadata": {},
   "outputs": [],
   "source": [
    "villa_data.columns"
   ]
  },
  {
   "cell_type": "code",
   "execution_count": null,
   "metadata": {},
   "outputs": [],
   "source": [
    "villa_data.describe()"
   ]
  },
  {
   "cell_type": "code",
   "execution_count": null,
   "metadata": {},
   "outputs": [],
   "source": [
    "sb.pairplot(villa_data, vars=['Pris', 'Beboelsesareal', 'Boligstørrelse', 'Boligstørrelse BBR', 'Grundstørrelse'])\n",
    "#sb.pairplot(villa_data, vars=['Pris', 'Beboelsesareal', 'Værelser', 'Antal toiletter', 'Antal badeværelser', 'Boligstørrelse', 'Boligstørrelse BBR', 'Grundstørrelse'])"
   ]
  },
  {
   "cell_type": "code",
   "execution_count": null,
   "metadata": {},
   "outputs": [],
   "source": [
    "villa_data.corr()"
   ]
  },
  {
   "cell_type": "code",
   "execution_count": null,
   "metadata": {},
   "outputs": [],
   "source": [
    "sb.heatmap(villa_data.corr(), annot=True)"
   ]
  },
  {
   "cell_type": "code",
   "execution_count": null,
   "metadata": {},
   "outputs": [],
   "source": [
    "test = villa_data[villa_data['Antal toiletter'] > 9]\n",
    "#est = villa_data[villa_data['Værelser'] > 15]\n",
    "test = villa_data['Boligstørrelse BBR']\n",
    "test"
   ]
  },
  {
   "cell_type": "code",
   "execution_count": null,
   "metadata": {},
   "outputs": [],
   "source": [
    "from sklearn.model_selection import train_test_split\n",
    "from sklearn.linear_model import LinearRegression\n",
    "X = villa_data[['Ejerudgift', 'Enhedsareal',\n",
    "       'Beboelsesareal','Antal toiletter', 'Antal badeværelser',\n",
    "       'Etager', 'Carport', 'Boligstørrelse BBR', 'Grundstørrelse']]\n",
    "y = villa_data['Pris']\n",
    "\n",
    "X_train, X_test, y_train, y_test = train_test_split(X, y, test_size=0.40, random_state=101)\n",
    "\n",
    "lm = LinearRegression()\n",
    "lm.fit(X_train, y_train)\n",
    "\n",
    "coeff_df = pd.DataFrame(lm.coef_, X.columns, columns=['Coefficient'])"
   ]
  },
  {
   "cell_type": "code",
   "execution_count": null,
   "metadata": {},
   "outputs": [],
   "source": [
    "coeff_df"
   ]
  },
  {
   "cell_type": "code",
   "execution_count": null,
   "metadata": {},
   "outputs": [],
   "source": [
    "lm.score(X, y)"
   ]
  },
  {
   "cell_type": "code",
   "execution_count": null,
   "metadata": {},
   "outputs": [],
   "source": [
    "predictions = lm.predict(X_test)"
   ]
  },
  {
   "cell_type": "code",
   "execution_count": null,
   "metadata": {},
   "outputs": [],
   "source": [
    "plt.scatter(y_test, predictions)"
   ]
  },
  {
   "cell_type": "code",
   "execution_count": null,
   "metadata": {},
   "outputs": [],
   "source": [
    "sb.displot((y_test-predictions), bins=50)"
   ]
  },
  {
   "cell_type": "code",
   "execution_count": null,
   "metadata": {},
   "outputs": [],
   "source": []
  }
 ],
 "metadata": {
  "kernelspec": {
   "display_name": "Python 3",
   "language": "python",
   "name": "python3"
  },
  "language_info": {
   "codemirror_mode": {
    "name": "ipython",
    "version": 3
   },
   "file_extension": ".py",
   "mimetype": "text/x-python",
   "name": "python",
   "nbconvert_exporter": "python",
   "pygments_lexer": "ipython3",
   "version": "3.8.5"
  }
 },
 "nbformat": 4,
 "nbformat_minor": 2
}
